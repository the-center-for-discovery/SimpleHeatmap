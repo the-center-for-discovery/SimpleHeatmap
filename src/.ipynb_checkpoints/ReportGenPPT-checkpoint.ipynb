{
 "cells": [
  {
   "cell_type": "code",
   "execution_count": 68,
   "metadata": {},
   "outputs": [],
   "source": [
    "# from pptx import Presentation\n",
    "# from pptx.util import Inches\n",
    "\n",
    "# prs = Presentation()\n",
    "# title_slide_layout = prs.slide_layouts[0]\n",
    "# slide = prs.slides.add_slide(title_slide_layout)\n",
    "# title = slide.shapes.title\n",
    "# subtitle = slide.placeholders[1]\n",
    "\n",
    "# title.text = \"COVID-19 Heat Map\"\n",
    "# subtitle.text = \"Exposure Level by Site\"\n",
    "\n",
    "# img_path = 'out.png'\n",
    "# blank_slide_layout = prs.slide_layouts[6]\n",
    "# slide = prs.slides.add_slide(blank_slide_layout)\n",
    "# report = slide.shapes\n",
    "\n",
    "# rows = cols = 2\n",
    "# left = top = Inches(2.0)\n",
    "# width = Inches(6.0)\n",
    "# height = Inches(0.8)\n",
    "\n",
    "# left = Inches(0.3)\n",
    "# top = Inches(0.3)\n",
    "# height = Inches(7)\n",
    "# width = (7)\n",
    "# pic = slide.shapes.add_picture(img_path, left, top, height=height)\n",
    "\n",
    "# # title_only_slide_layout = prs.slide_layouts[5]\n",
    "# # slide = prs.slides.add_slide(title_only_slide_layout)\n",
    "# # shapes = slide.shapes\n",
    "\n",
    "# # shapes.title.text = 'Adding a Table'\n",
    "\n",
    "# # rows = cols = 2\n",
    "# # left = top = Inches(2.0)\n",
    "# # width = Inches(6.0)\n",
    "# # height = Inches(0.8)\n",
    "\n",
    "# # table = shapes.add_table(rows, cols, left, top, width, height).table\n",
    "\n",
    "# # # set column widths\n",
    "# # table.columns[0].width = Inches(2.0)\n",
    "# # table.columns[1].width = Inches(4.0)\n",
    "\n",
    "# # # write column headings\n",
    "# # table.cell(0, 0).text = 'Foo'\n",
    "# # table.cell(0, 1).text = 'Bar'\n",
    "\n",
    "# # # write body cells\n",
    "# # table.cell(1, 0).text = 'Baz'\n",
    "# # table.cell(1, 1).text = 'Qux'\n",
    "\n",
    "# prs.save('COVID 19 Report.pptx')"
   ]
  },
  {
   "cell_type": "code",
   "execution_count": 1,
   "metadata": {},
   "outputs": [
    {
     "name": "stdout",
     "output_type": "stream",
     "text": [
      "Requirement already satisfied: python-docx in /Users/johnconoranderson/opt/anaconda3/lib/python3.7/site-packages (0.8.10)\n",
      "Requirement already satisfied: lxml>=2.3.2 in /Users/johnconoranderson/opt/anaconda3/lib/python3.7/site-packages (from python-docx) (4.4.1)\n",
      "Note: you may need to restart the kernel to use updated packages.\n"
     ]
    }
   ],
   "source": [
    "pip install python-docx"
   ]
  },
  {
   "cell_type": "code",
   "execution_count": 15,
   "metadata": {},
   "outputs": [],
   "source": [
    "from docx import Document\n",
    "from docx.shared import Inches\n",
    "\n",
    "document = Document()\n",
    "\n",
    "document.add_heading('COVID-19 Report', 0)\n",
    "\n",
    "p = document.add_paragraph('COVID-19 Heat Map')\n",
    "p.add_run('Status Report').bold = True\n",
    "#p.add_run(' Status Report ')\n",
    "#p.add_run('italic.').italic = True\n",
    "\n",
    "document.add_heading('Site', level=1)\n",
    "#document.add_paragraph('Intense quote', style='Intense Quote')\n",
    "\n",
    "document.add_paragraph(\n",
    "    '# of high risk locations, med risk etc.', style='List Bullet'\n",
    "\n",
    ")\n",
    "\n",
    "# document.add_paragraph(\n",
    "#     'first item in ordered list', style='List Number'\n",
    "# )\n",
    "\n",
    "document.add_picture('out.png', width=Inches(6))\n",
    "\n",
    "records = (\n",
    "    ('High Risk', '5', 'Smith, Benson, etc..'),\n",
    "    ('Med Risk', '4', 'Eich, Berman'),\n",
    "    \n",
    ")\n",
    "\n",
    "table = document.add_table(rows=1, cols=3)\n",
    "hdr_cells = table.rows[0].cells\n",
    "hdr_cells[0].text = 'Level'\n",
    "hdr_cells[1].text = 'Qty'\n",
    "hdr_cells[2].text = 'Location'\n",
    "for qty, id, desc in records:\n",
    "    row_cells = table.add_row().cells\n",
    "    row_cells[0].text = str(qty)\n",
    "    row_cells[1].text = id\n",
    "    row_cells[2].text = desc\n",
    "\n",
    "document.add_page_break()\n",
    "\n",
    "document.save('CV19 Report.docx')"
   ]
  },
  {
   "cell_type": "code",
   "execution_count": null,
   "metadata": {},
   "outputs": [],
   "source": []
  }
 ],
 "metadata": {
  "kernelspec": {
   "display_name": "Python 3",
   "language": "python",
   "name": "python3"
  },
  "language_info": {
   "codemirror_mode": {
    "name": "ipython",
    "version": 3
   },
   "file_extension": ".py",
   "mimetype": "text/x-python",
   "name": "python",
   "nbconvert_exporter": "python",
   "pygments_lexer": "ipython3",
   "version": "3.7.4"
  }
 },
 "nbformat": 4,
 "nbformat_minor": 4
}
