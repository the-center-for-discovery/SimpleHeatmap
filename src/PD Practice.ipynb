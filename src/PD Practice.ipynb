{
 "cells": [
  {
   "cell_type": "code",
   "execution_count": 14,
   "metadata": {},
   "outputs": [
    {
     "name": "stdout",
     "output_type": "stream",
     "text": [
      "Index(['LOCATION', 'PERSON A', 'CLEARED', 'ACTIVE', 'Unnamed: 4', 'PERSON B',\n",
      "       'Unnamed: 6', 'PERSON B, SIGNS, SYMPTOMS', 'cleared?', 'ACTIVE S&S',\n",
      "       'Unnamed: 10', 'PERSON B EXPOSURE', 'CLEARED?', 'ACTIVE, EXPOSED',\n",
      "       'exposed, w/symptoms', 'exposed, w/symp, cleared',\n",
      "       'exposed w/symp, active', 'EXPOSED, NO S&S', 'Unnamed: 18',\n",
      "       'staff tested', 'staff tested, neg', 'staff tested, pos',\n",
      "       'staff tested, pending', 'Unnamed: 23', 'Unnamed: 24', 'POSITIVE',\n",
      "       'CLEARED.1', 'ACTIVE POSITIVE', 'PERSON B, SIGNS, SYMPTOMS.1',\n",
      "       'cleared?.1', 'ACTIVE S&S.1', 'PERSON B EXPOSURE.1', 'CLEARED?.1',\n",
      "       'ACTIVE, EXPOSED.1', 'exposed, w/symptoms.1',\n",
      "       'exposed, w/symp, cleared.1', 'exposed w/symp, active.1',\n",
      "       'EXPOSED, NO S&S.1', 'Unnamed: 38', 'Unnamed: 39',\n",
      "       'RESIDENT BY-LOCATION', 'RES, POS', 'RES, POS, CLEARED',\n",
      "       'RES, POS, ACTIVE', 'RES, PEND', 'RES, PEND, CLEAR',\n",
      "       'RES, PEND, ACTIVE', 'RESIDENT NEGATIVE', 'RESIDENT NO TEST',\n",
      "       'ACTIVE EXPOSED', 'EXPO, w/SYMP', 'RES, EXPO, CLEAR',\n",
      "       'EXPO, SYMP, ACTIVE', 'RES, EXPOSED, UNIQUE, ACTIVE', 'Unnamed: 54',\n",
      "       'Unnamed: 55', 'positive w/symp', 'RES, S/S, ACTIVE', 'Unnamed: 58',\n",
      "       'TOTALS', 'ALL POS', 'ALL, EXPOSED, UNIQUE, ACTIVE', 'ALL, S/S, ACTIVE',\n",
      "       'Unnamed: 63', 'LOC', 'RES', 'Unnamed: 66', 'Unnamed: 67',\n",
      "       'Unnamed: 68', 'STAFF', 'Unnamed: 70', 'Unnamed: 71', 'Unnamed: 72',\n",
      "       'DAY', 'N95', 'SURG', 'GOWNS', 'CAPS', 'COVERS', 'GLASSES', 'SHIELDS',\n",
      "       'Unnamed: 81', 'LOC.1', 'PPE LEVEL'],\n",
      "      dtype='object')\n"
     ]
    }
   ],
   "source": [
    "import pandas as pd\n",
    "\n",
    "#import xlwings as xw\n",
    "\n",
    "# PATH = 'Tracking Sheet Master (4).xlsm'\n",
    "# wb = xw.Book(PATH)\n",
    "# sheet = wb.sheets['METADATA']\n",
    "\n",
    "df = pd.read_excel('METADATA.xlsx')\n",
    "\n",
    "#print(df.head())\n",
    "print (df.columns)"
   ]
  },
  {
   "cell_type": "code",
   "execution_count": 4,
   "metadata": {},
   "outputs": [],
   "source": [
    "## READ COLUMN HEADERS \n",
    "#print (df.columns)\n",
    "\n",
    "##READ COLUMNS\n",
    "#print(df[['LOCATION', 'ACTIVE', 'RES, POS, ACTIVE', 'RES, PEND, CLEAR', 'staff tested, pending', 'ACTIVE S&S']])\n",
    "\n",
    "##READ ROWS \n",
    "##$$$ 'iloc (integer location)' shows everything that is in that row\n",
    "#print(df.iloc[1:45])"
   ]
  },
  {
   "cell_type": "code",
   "execution_count": 13,
   "metadata": {},
   "outputs": [
    {
     "name": "stdout",
     "output_type": "stream",
     "text": [
      "['Acorn']\n",
      "['Acorn', 'Aspen']\n",
      "['Acorn', 'Aspen', 'Beechnut']\n",
      "['Acorn', 'Aspen', 'Beechnut', 'Benson']\n",
      "['Acorn', 'Aspen', 'Beechnut', 'Benson', 'Briarwood']\n",
      "['Acorn', 'Aspen', 'Beechnut', 'Benson', 'Briarwood', 'Eichenauer']\n",
      "['Acorn', 'Aspen', 'Beechnut', 'Benson', 'Briarwood', 'Eichenauer', 'Elm']\n",
      "['Evergreen']\n",
      "['Acorn', 'Aspen', 'Beechnut', 'Benson', 'Briarwood', 'Eichenauer', 'Elm', 'Evergreen']\n",
      "['Acorn', 'Aspen', 'Beechnut', 'Benson', 'Briarwood', 'Eichenauer', 'Elm', 'Evergreen', 'Forman']\n",
      "['Acorn', 'Aspen', 'Beechnut', 'Benson', 'Briarwood', 'Eichenauer', 'Elm', 'Evergreen', 'Forman', 'Hamilton']\n",
      "['Acorn', 'Aspen', 'Beechnut', 'Benson', 'Briarwood', 'Eichenauer', 'Elm', 'Evergreen', 'Forman', 'Hamilton', 'Oak']\n",
      "['Evergreen', 'Rapp R']\n",
      "['Acorn', 'Aspen', 'Beechnut', 'Benson', 'Briarwood', 'Eichenauer', 'Elm', 'Evergreen', 'Forman', 'Hamilton', 'Oak', 'Rapp R']\n",
      "['Acorn', 'Aspen', 'Beechnut', 'Benson', 'Briarwood', 'Eichenauer', 'Elm', 'Evergreen', 'Forman', 'Hamilton', 'Oak', 'Rapp R', 'Redwood']\n",
      "['Acorn', 'Aspen', 'Beechnut', 'Benson', 'Briarwood', 'Eichenauer', 'Elm', 'Evergreen', 'Forman', 'Hamilton', 'Oak', 'Rapp R', 'Redwood', 'Rosemary ']\n",
      "['Acorn', 'Aspen', 'Beechnut', 'Benson', 'Briarwood', 'Eichenauer', 'Elm', 'Evergreen', 'Forman', 'Hamilton', 'Oak', 'Rapp R', 'Redwood', 'Rosemary ', 'Slate']\n",
      "['Acorn', 'Aspen', 'Beechnut', 'Benson', 'Briarwood', 'Eichenauer', 'Elm', 'Evergreen', 'Forman', 'Hamilton', 'Oak', 'Rapp R', 'Redwood', 'Rosemary ', 'Slate', 'Smith']\n",
      "['Acorn', 'Aspen', 'Beechnut', 'Benson', 'Briarwood', 'Eichenauer', 'Elm', 'Evergreen', 'Forman', 'Hamilton', 'Oak', 'Rapp R', 'Redwood', 'Rosemary ', 'Slate', 'Smith', 'Sweet Hill']\n",
      "['Acorn', 'Aspen', 'Beechnut', 'Benson', 'Briarwood', 'Eichenauer', 'Elm', 'Evergreen', 'Forman', 'Hamilton', 'Oak', 'Rapp R', 'Redwood', 'Rosemary ', 'Slate', 'Smith', 'Sweet Hill', 'Thyme']\n",
      "['Acorn', 'Aspen', 'Beechnut', 'Benson', 'Briarwood', 'Eichenauer', 'Elm', 'Evergreen', 'Forman', 'Hamilton', 'Oak', 'Rapp R', 'Redwood', 'Rosemary ', 'Slate', 'Smith', 'Sweet Hill', 'Thyme', 'Wawanda']\n"
     ]
    }
   ],
   "source": [
    "##FOR LOOP TO ITERATE THROUGH ROWS\n",
    "\n",
    "risk_high = []\n",
    "risk_med = []\n",
    "\n",
    "for index, row in df.iterrows():\n",
    "    \n",
    "#REMOVE NaN FROM DATASET\n",
    "    df['ACTIVE'] = pd.to_numeric(df['ACTIVE'], errors='coerce')\n",
    "    df = df.dropna(subset=['ACTIVE'])\n",
    "    df['ACTIVE'] = df['ACTIVE'].astype(int)\n",
    "    \n",
    "    df['RES, POS, ACTIVE'] = pd.to_numeric(df['RES, POS, ACTIVE'], errors='coerce')\n",
    "    df = df.dropna(subset=['RES, POS, ACTIVE'])\n",
    "    df['RES, POS, ACTIVE'] = df['RES, POS, ACTIVE'].astype(int)\n",
    "    \n",
    "    df['RES, PEND, CLEAR'] = pd.to_numeric(df['RES, PEND, CLEAR'], errors='coerce')\n",
    "    df = df.dropna(subset=['RES, PEND, CLEAR'])\n",
    "    df['RES, PEND, CLEAR'] = df['RES, PEND, CLEAR'].astype(int)\n",
    "    \n",
    "    df['staff tested, pending'] = pd.to_numeric(df['staff tested, pending'], errors='coerce')\n",
    "    df = df.dropna(subset=['staff tested, pending'])\n",
    "    df['staff tested, pending'] = df['staff tested, pending'].astype(int)\n",
    "   \n",
    "    df['ACTIVE S&S'] = pd.to_numeric(df['ACTIVE S&S'], errors='coerce')\n",
    "    df = df.dropna(subset=['ACTIVE S&S'])\n",
    "    df['ACTIVE S&S'] = df['ACTIVE S&S'].astype(int)\n",
    " \n",
    "\n",
    "    house = str(row['LOCATION'])\n",
    "    staff_conf = int(row['ACTIVE'])\n",
    "    pos_res = int(row['RES, POS, ACTIVE'])\n",
    "    pend_res = int(row['RES, PEND, CLEAR'])\n",
    "    pend_sta = int(row['staff tested, pending'])\n",
    "    staff_sym = int(row['ACTIVE S&S']) \n",
    "    \n",
    "\n",
    "#HIGH RISK\n",
    "    if staff_conf > 0:  \n",
    "        risk_high.append(str(house))\n",
    "        print(risk_high)\n",
    "    elif pos_res > 0:\n",
    "        risk_high.append(str(house))\n",
    "        print(risk_high)\n",
    "\n",
    "#MEDIUM RISK\n",
    "    if pend_res > 0:\n",
    "        risk_med.append(str(house))\n",
    "        print(risk_med)\n",
    "    elif pend_sta > 0:\n",
    "        risk_med.append(str(house))\n",
    "        print(risk_med)\n",
    "    elif pend_sta > 0:\n",
    "        risk_med.append(str(house))\n",
    "        print(risk_med)\n",
    "    elif staff_sym > 0:\n",
    "        risk_med.append(str(house))\n",
    "        print(risk_med)"
   ]
  },
  {
   "cell_type": "code",
   "execution_count": null,
   "metadata": {},
   "outputs": [],
   "source": []
  }
 ],
 "metadata": {
  "kernelspec": {
   "display_name": "Python 3",
   "language": "python",
   "name": "python3"
  },
  "language_info": {
   "codemirror_mode": {
    "name": "ipython",
    "version": 3
   },
   "file_extension": ".py",
   "mimetype": "text/x-python",
   "name": "python",
   "nbconvert_exporter": "python",
   "pygments_lexer": "ipython3",
   "version": "3.7.4"
  }
 },
 "nbformat": 4,
 "nbformat_minor": 4
}
