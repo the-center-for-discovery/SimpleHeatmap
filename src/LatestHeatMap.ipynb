{
 "cells": [
  {
   "cell_type": "code",
   "execution_count": 203,
   "metadata": {},
   "outputs": [],
   "source": [
    "# IMPORTING NEEDED PYTHON PACKAGES\n",
    "from PIL import Image, ImageDraw, ImageFont\n",
    "import matplotlib.pyplot as plt\n",
    "import matplotlib.image as mpimg\n",
    "import pandas as pd"
   ]
  },
  {
   "cell_type": "code",
   "execution_count": 204,
   "metadata": {},
   "outputs": [],
   "source": [
    "images = [\"southcamp.jpg\",\"northcamp.png\",\"ridge.png\",\"lifecenter.png\",\"bbhville.png\",\"therest.png\"]"
   ]
  },
  {
   "cell_type": "code",
   "execution_count": 205,
   "metadata": {},
   "outputs": [
    {
     "data": {
      "text/plain": [
       "<Figure size 1152x1152 with 0 Axes>"
      ]
     },
     "metadata": {},
     "output_type": "display_data"
    },
    {
     "data": {
      "text/plain": [
       "<Figure size 1152x1152 with 0 Axes>"
      ]
     },
     "metadata": {},
     "output_type": "display_data"
    },
    {
     "data": {
      "text/plain": [
       "<Figure size 1152x1152 with 0 Axes>"
      ]
     },
     "metadata": {},
     "output_type": "display_data"
    },
    {
     "data": {
      "text/plain": [
       "<Figure size 1152x1152 with 0 Axes>"
      ]
     },
     "metadata": {},
     "output_type": "display_data"
    },
    {
     "data": {
      "text/plain": [
       "<Figure size 1152x1152 with 0 Axes>"
      ]
     },
     "metadata": {},
     "output_type": "display_data"
    },
    {
     "data": {
      "text/plain": [
       "<Figure size 1152x1152 with 0 Axes>"
      ]
     },
     "metadata": {},
     "output_type": "display_data"
    }
   ],
   "source": [
    "#*********************************PREVIEW\n",
    "for i in images:\n",
    "    plt.figure(figsize=(16, 16))\n",
    "    #select_location = input(\"Please enter site: \") #include .jpg\n",
    "    if i in images:\n",
    "        index = images.index(i)\n",
    "    location = mpimg.imread(images[index])\n",
    "    #imgplot = plt.imshow(location)\n",
    "#print(imgplot)\n",
    "#***************************************"
   ]
  },
  {
   "cell_type": "code",
   "execution_count": 208,
   "metadata": {
    "scrolled": true
   },
   "outputs": [
    {
     "name": "stdout",
     "output_type": "stream",
     "text": [
      "['Berman', 'Willow', 'Forman', 'Thyme', 'Rapp R', 'Evergreen', 'Tulip', 'Slate', 'Railroad']\n"
     ]
    }
   ],
   "source": [
    "df = pd.read_excel ('METADATA.xlsx')\n",
    "\n",
    "overlay_drawing = []\n",
    "loc_image = []\n",
    "\n",
    "risk_high = []\n",
    "risk_med_br = []\n",
    "risk_med_li = []\n",
    "risk_low_br = []\n",
    "risk_low_li = []\n",
    "no_risk = []\n",
    "\n",
    "posSta = []\n",
    "\n",
    "loc_risk =[]\n",
    "out = []\n",
    "\n",
    "data = []\n",
    "\n",
    "# SETTING COLOR AND TRANSPARENCY\n",
    "colorRed = (255, 0, 0)\n",
    "colorYel = (255, 255, 0) \n",
    "colorLitYel = (255, 255, 0) \n",
    "colorOng = (255, 144, 0)\n",
    "colorLitOng = (255,144,0)\n",
    "colorBlnk = (255, 0, 0)\n",
    "\n",
    "# HOW TRANSPARENT; 1 MEANING FULLY, 0 MEANING NO TRANSPARENCY\n",
    "\n",
    "degree_transparency_red = .6\n",
    "degree_transparency_yel = .6\n",
    "degree_transparency_lityel = .2\n",
    "degree_transparency_ong = .6\n",
    "degree_transparency_litong = .2\n",
    "degree_transparency_blnk = .0\n",
    "\n",
    "\n",
    "# DETERMINING DEGREE OF TRANSPARENCY MASK AND ADDING ALPHA CHANNEL TO SELECTED COLOR\n",
    "\n",
    "opacity_red = int(255 * degree_transparency_red) \n",
    "colorRed = colorRed + (opacity_red,)\n",
    "\n",
    "opacity_yel = int(255 * degree_transparency_yel)\n",
    "colorYel = colorYel + (opacity_yel,) \n",
    "opacity_lityel = int(255 * degree_transparency_lityel) \n",
    "colorLitYel = colorLitYel + (opacity_lityel,)\n",
    "\n",
    "opacity_ong = int(255 * degree_transparency_yel) \n",
    "colorOng = colorOng + (opacity_ong,) \n",
    "opacity_litong = int(255 * degree_transparency_litong) \n",
    "colorLitOng = colorLitOng + (opacity_litong,)\n",
    "\n",
    "opacity_blnk = int(255 * degree_transparency_blnk) \n",
    "colorBlnk = colorBlnk + (opacity_blnk,)\n",
    "\n",
    "# LABELING COORDINATES OF WHERE BUILDINGS ARE LOCATED\n",
    "sc_coords = {\"Hamilton\":(700,1000, 800,1100),\"Berman\":(980,1130,1080,1230),\n",
    "               \"Eichenauer\":(1080, 1150, 1180, 1250), \"Birch\":(980,870,1080,970),\n",
    "               \"Willow\":(1000,830,1100,930),\"Smith\":(1070,800,1170,900),\n",
    "               \"Benson\":(1120,870,1220,970),\"Forman\":(1280, 950, 1380, 1050),\n",
    "               \"Oak\":(1700,1150,1800,1250),\"Mulberry\":(1790,1220,1890,1320),\n",
    "            \"Sunset North\":(1250,0,1400,150),\"Sunset South\":(1250,0,1400,150),\n",
    "            \"Otis Armstrong\":(670,500,770,600),\"Four Seasons\":(120,830,220,930), \n",
    "             \"Pine\":(1680,1130,1780,1230)}\n",
    "\n",
    "nc_coords = {\"Thyme\":(870,220,970,320),\"Parsley\":(860,270,960,370),\n",
    "             \"Rosemary \":(920,250,1020,350), \"Sage\":(900,300,1000,400),\n",
    "            \"Rapp R\":(1980,750,2080,850), \"Rapp West\":(1950,890,2050,990)}\n",
    "\n",
    "ri_coords = {\"Ashwood\":(300,130,400,230), \"Acorn\":(400,400,500,500), \n",
    "             \"Aspen\":(220,350,320,450) ,\"Balsam \":(280,220,380,320), \n",
    "             \"Beechnut\":(380,330,480,430), \"Briarwood\":(150,350,250,450), \n",
    "             \"Cedar\":(220,170,320,270), \"Chestnut\":(300,400,400,500), \n",
    "             \"Cypress\":(220,280,320,380)}\n",
    "\n",
    "lc_coords = {\"Elm\":(360,670,460,770),\"Evergreen\":(250,640,350,740),\n",
    "             \"Redwood\":(410,800,510,900),\"Spruce\":(260,580,360,680),\n",
    "             \"Tulip\":(320,760,420,860), \"Harvest\":(10,190,110,290)}\n",
    "\n",
    "bh_coords = {\"Granite\":(520,190,620,290), \"Slate\":(450,260,550,360), \n",
    "             \"Stonewall\":(110,150,210,250), \"Barefoot\":(1120,200,1220,300),\n",
    "            \"Main\":(1060,300,1160,400), \"Railroad\":(1090,465,1190,565)}\n",
    "\n",
    "tr_coords = {\"Vista\":(330,290,430,390),\"Wawanda\":(1180,450,1280,550),\n",
    "            \"Sweet Hill\":(1510,480,1610,580)}\n",
    "\n",
    "##FOR LOOP TO ITERATE THROUGH EXCEL DATA***************************************************\n",
    "for index, row in df.iterrows():\n",
    "\n",
    "# \n",
    "    house = str(row['LOCATION'])\n",
    "    \n",
    "    pos_sta = float(row['ACTIVE'])\n",
    "    pos_res = float(row['RES, POS, ACTIVE'])\n",
    "    pend_res = float(row['RES, PEND, ACTIVE'])\n",
    "    symp_res = float(row['RES, S/S, ACTIVE'])\n",
    "    pend_sta = float(row['staff tested, pending, active'])\n",
    "    staff_sym = float(row['ACTIVE S&S'])\n",
    "    \n",
    "    \n",
    "#HIGH RISK\n",
    "    if pos_sta > 0:\n",
    "        risk_high.append(str(house))\n",
    "    elif pos_res > 0:\n",
    "        risk_high.append(str(house))\n",
    "        #print(house)    \n",
    "#MEDIUM RISK BRIGHT\n",
    "    elif pend_res > 0:\n",
    "        risk_med_br.append(str(house))\n",
    "#MEDIUM RISK LIGHT\n",
    "    elif symp_res > 0:\n",
    "        risk_med_li.append(str(house))\n",
    "        \n",
    "#LOW RISK BRIGHT\n",
    "    elif pend_sta > 0:\n",
    "        risk_low_br.append(str(house))\n",
    "#LOW RISK LIGHT\n",
    "    elif staff_sym > 1:\n",
    "        risk_low_li.append(str(house))\n",
    "    elif staff_sym <= 1:\n",
    "        no_risk.append(str(house))\n",
    "\n",
    "#!!!!!!!!!!!!!!!! bug because value criteria not being met !!!!!!!!!!!!!!!!!!!!!!!!\n",
    "\n",
    "#******************************************************************************END\n",
    "\n",
    "for i in images:\n",
    "    #print(\"The picture is {}\".format(i[0:len(i)-4]))\n",
    "    index = images.index(i)\n",
    "    loc_image = Image.open(images[index]).convert(\"RGBA\")\n",
    "    if i == \"southcamp.jpg\":\n",
    "        #print (coords)\n",
    "        coords = sc_coords\n",
    "    elif i == \"northcamp.png\":\n",
    "        #print (coords)\n",
    "        coords = nc_coords\n",
    "    elif i == \"ridge.png\":\n",
    "        #print (coords)\n",
    "        coords = ri_coords\n",
    "    elif i == \"lifecenter.png\":\n",
    "        #print (coords)\n",
    "        coords = lc_coords\n",
    "    elif i == \"bbhville.png\":\n",
    "        #print (coords)\n",
    "        coords = bh_coords\n",
    "    elif i == \"therest.png\":\n",
    "        #print (coords)\n",
    "        coords = tr_coords\n",
    "\n",
    "    overlay = Image.new(\"RGBA\", loc_image.size)\n",
    "    overlay_drawing = ImageDraw.Draw(overlay)\n",
    "#     loc_risk = Image.alpha_composite(loc_image, overlay)\n",
    "\n",
    "    for key, value in coords.items():\n",
    "        if key in risk_high:\n",
    "            data.append(key)\n",
    "            overlay_drawing.ellipse(coords[key], fill=colorRed)\n",
    "            loc_risk = Image.alpha_composite(loc_image, overlay)\n",
    "        elif key in risk_med_br: \n",
    "            overlay_drawing.ellipse(coords[key], fill=colorOng)\n",
    "            loc_risk = Image.alpha_composite(loc_image, overlay)\n",
    "        elif key in risk_med_li: \n",
    "            overlay_drawing.ellipse(coords[key], fill=colorLitOng)\n",
    "            loc_risk = Image.alpha_composite(loc_image, overlay)\n",
    "        elif key in risk_low_br:\n",
    "            overlay_drawing.ellipse(coords[key], fill=colorYel)\n",
    "            loc_risk = Image.alpha_composite(loc_image, overlay)\n",
    "        elif key in risk_low_li:\n",
    "            overlay_drawing.ellipse(coords[key], fill=colorLitYel)\n",
    "            loc_risk = Image.alpha_composite(loc_image, overlay)\n",
    "        elif key in no_risk:\n",
    "            #overlay_drawing.ellipse(coords[key], fill=colorBlnk)\n",
    "            loc_risk = Image.alpha_composite(loc_image, overlay)\n",
    "    \n",
    "    loc_risk.save('{}_risk.png'.format(i[0:len(i)-4]))\n",
    "    loc_risk.show() \n",
    "\n",
    "print(data)"
   ]
  },
  {
   "cell_type": "code",
   "execution_count": 207,
   "metadata": {},
   "outputs": [
    {
     "name": "stdout",
     "output_type": "stream",
     "text": [
      "['Berman', 'Willow', 'Forman', 'Thyme', 'Rapp R', 'Evergreen', 'Tulip', 'Slate', 'Railroad']\n"
     ]
    }
   ],
   "source": [
    "from docx import Document\n",
    "from docx.shared import Inches\n",
    "\n",
    "document = Document()\n",
    "\n",
    "sections = document.sections\n",
    "for section in sections:\n",
    "    section.top_margin = Inches(1.2)\n",
    "    section.bottom_margin = Inches(0)\n",
    "    section.left_margin = Inches(0.25)\n",
    "    section.right_margin = Inches(0.25)\n",
    "\n",
    "#*********************************PAGE 1*****************************************\n",
    "document.add_heading('SOUTH CAMPUS', 0)\n",
    "\n",
    "document.add_picture('southcamp_risk.png', width=Inches(8))\n",
    "document.add_picture('legend.png', width=Inches(8))\n",
    "\n",
    "document.add_page_break()\n",
    "\n",
    "#*********************************PAGE 2*****************************************\n",
    "document.add_heading('NORTH CAMPUS', 0)\n",
    "\n",
    "document.add_picture('northcamp_risk.png', width=Inches(8))\n",
    "document.add_picture('legend.png', width=Inches(8))\n",
    "\n",
    "document.add_page_break()\n",
    "\n",
    "#****************** ***************PAGE 3*****************************************\n",
    "document.add_heading('THE RIDGE', 0)\n",
    "\n",
    "document.add_picture('ridge_risk.png', width=Inches(8))\n",
    "document.add_picture('legend.png', width=Inches(8))\n",
    "\n",
    "document.add_page_break()\n",
    "\n",
    "#*********************************PAGE 4*****************************************\n",
    "document.add_heading('THE LIFE CENTER', 0)\n",
    "\n",
    "document.add_picture('lifecenter_risk.png', width=Inches(7))\n",
    "document.add_picture('legend.png', width=Inches(7))\n",
    "\n",
    "document.add_page_break()\n",
    "\n",
    "#*********************************PAGE 5*****************************************\n",
    "document.add_heading('MITEER, HURLEYVILLE, OUTLIERS', 0)\n",
    "\n",
    "document.add_picture('bbhville_risk.png', width=Inches(8))\n",
    "document.add_picture('therest_risk.png', width=Inches(8))\n",
    "document.add_picture('legend.png', width=Inches(8))\n",
    "\n",
    "print(data)\n",
    "document.save('CV19 AUTO HEATMAP REPORT.docx')"
   ]
  },
  {
   "cell_type": "code",
   "execution_count": null,
   "metadata": {},
   "outputs": [],
   "source": []
  },
  {
   "cell_type": "code",
   "execution_count": null,
   "metadata": {},
   "outputs": [],
   "source": []
  },
  {
   "cell_type": "code",
   "execution_count": null,
   "metadata": {},
   "outputs": [],
   "source": []
  }
 ],
 "metadata": {
  "kernelspec": {
   "display_name": "Python 3",
   "language": "python",
   "name": "python3"
  },
  "language_info": {
   "codemirror_mode": {
    "name": "ipython",
    "version": 3
   },
   "file_extension": ".py",
   "mimetype": "text/x-python",
   "name": "python",
   "nbconvert_exporter": "python",
   "pygments_lexer": "ipython3",
   "version": "3.7.4"
  }
 },
 "nbformat": 4,
 "nbformat_minor": 4
}
