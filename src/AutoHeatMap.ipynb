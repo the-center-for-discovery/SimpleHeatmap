{
 "cells": [
  {
   "cell_type": "code",
   "execution_count": 1,
   "metadata": {},
   "outputs": [],
   "source": [
    "# IMPORTING NEEDED PYTHON PACKAGES\n",
    "from PIL import Image, ImageDraw, ImageFont\n",
    "import matplotlib.pyplot as plt\n",
    "import matplotlib.image as mpimg\n",
    "import csv\n",
    "import time"
   ]
  },
  {
   "cell_type": "code",
   "execution_count": 2,
   "metadata": {},
   "outputs": [],
   "source": [
    "images = [\"southcamp.jpg\",\"northcamp.png\",\"ridge.png\",\"lifecenter.png\",\"bbhville.png\",\"therest.png\"]"
   ]
  },
  {
   "cell_type": "code",
   "execution_count": 3,
   "metadata": {},
   "outputs": [
    {
     "data": {
      "text/plain": [
       "<Figure size 1152x1152 with 0 Axes>"
      ]
     },
     "metadata": {},
     "output_type": "display_data"
    },
    {
     "data": {
      "text/plain": [
       "<Figure size 1152x1152 with 0 Axes>"
      ]
     },
     "metadata": {},
     "output_type": "display_data"
    },
    {
     "data": {
      "text/plain": [
       "<Figure size 1152x1152 with 0 Axes>"
      ]
     },
     "metadata": {},
     "output_type": "display_data"
    },
    {
     "data": {
      "text/plain": [
       "<Figure size 1152x1152 with 0 Axes>"
      ]
     },
     "metadata": {},
     "output_type": "display_data"
    },
    {
     "data": {
      "text/plain": [
       "<Figure size 1152x1152 with 0 Axes>"
      ]
     },
     "metadata": {},
     "output_type": "display_data"
    },
    {
     "data": {
      "text/plain": [
       "<Figure size 1152x1152 with 0 Axes>"
      ]
     },
     "metadata": {},
     "output_type": "display_data"
    }
   ],
   "source": [
    "#*********************************PREVIEW\n",
    "for i in images:\n",
    "    plt.figure(figsize=(16, 16))\n",
    "    #select_location = input(\"Please enter site: \") #include .jpg\n",
    "    #print (i)\n",
    "    if i in images:\n",
    "        index = images.index(i)\n",
    "    location = mpimg.imread(images[index])\n",
    "#***************************************"
   ]
  },
  {
   "cell_type": "code",
   "execution_count": 4,
   "metadata": {},
   "outputs": [
    {
     "name": "stdout",
     "output_type": "stream",
     "text": [
      "The picture is southcamp\n",
      "The picture is northcamp\n",
      "The picture is ridge\n",
      "The picture is lifecenter\n",
      "The picture is bbhville\n",
      "The picture is therest\n"
     ]
    }
   ],
   "source": [
    "#****************************************VARIABLES*******************************************\n",
    "\n",
    "overlay_drawing = []\n",
    "loc_image = []\n",
    "risk_data = '/home/src/Projects/tmp/heatmap-dev/Heat Map Sites.csv'\n",
    "line_num = 0\n",
    "risk_high = []\n",
    "risk_med = []\n",
    "risk_low = []\n",
    "loc_risk =[]\n",
    "out = []\n",
    "\n",
    "# SETTING COLOR AND TRANSPARENCY\n",
    "colorGrn = (0, 255, 0) # SETS THE INITIAL COLOR OF MAP\n",
    "colorYel = (255, 255, 0) # SETS THE INITIAL COLOR OF AN ELLIPSE\n",
    "colorRed = (255, 0, 0)\n",
    "colorBlank = (0,0,0)\n",
    "\n",
    "degree_transparency_grn = .3\n",
    "degree_transparency_yel = .5 # HOW TRANSPARENT; 1 MEANING FULLY, 0 MEANING NO TRANSPARENCY\n",
    "degree_transparency_red = .5\n",
    "degree_transparency_blank = .0\n",
    "\n",
    "opacity_grn = int(255 * degree_transparency_grn) # DETERMINING DEGREE OF TRANSPARENCY MASK\n",
    "colorGrn = colorGrn + (opacity_grn,)\n",
    "opacity_yel = int(255 * degree_transparency_yel) # DETERMINING DEGREE OF TRANSPARENCY MASK\n",
    "colorYel = colorYel + (opacity_yel,) # ADDING ALPHA CHANNEL TO SELECTED COLOR\n",
    "opacity_red = int(255 * degree_transparency_red) # DETERMINING DEGREE OF TRANSPARENCY MASK\n",
    "colorRed = colorRed + (opacity_red,)\n",
    "opacity_blank = int(255 * degree_transparency_blank) # DETERMINING DEGREE OF TRANSPARENCY MASK\n",
    "colorBlank = colorBlank + (opacity_blank,)\n",
    "\n",
    "# LABELING COORDINATES OF WHERE BUILDINGS ARE LOCATED\n",
    "sc_coords = {\"Hamilton\":(700,1000, 800,1100),\"Berman\":(980,1130,1080,1230),\n",
    "               \"Eichenauer\":(1080, 1150, 1180, 1250), \"Birch\":(980,870,1080,970),\n",
    "               \"Willow\":(980,850,1080,950),\"Smith\":(1070,800,1170,900),\n",
    "               \"Benson\":(1120,870,1220,970),\"Forman\":(1280, 950, 1380, 1050),\n",
    "               \"Oak\":(1700,1150,1800,1250),\"Mulberry\":(1790,1220,1890,1320),\n",
    "            \"Sunset North\":(1250,0,1400,150),\"Sunset South\":(1250,0,1400,150),\n",
    "            \"Otis Armstrong\":(670,500,770,600),\"Four Seasons\":(120,830,220,930), \n",
    "             \"Pine\":(1680,1130,1780,1230)}\n",
    "\n",
    "nc_coords = {\"Thyme\":(870,220,970,320),\"Parsley\":(860,270,960,370),\n",
    "             \"Rosemary \":(920,250,1020,350), \"Sage\":(900,300,1000,400),\n",
    "            \"Rapp R\":(1980,750,2080,850), \"Rapp West\":(1950,890,2050,990)}\n",
    "\n",
    "ri_coords = {\"Ashwood\":(300,130,400,230), \"Acorn\":(400,400,500,500), \n",
    "             \"Aspen\":(220,350,320,450) ,\"Balsam \":(280,220,380,320), \n",
    "             \"Beechnut\":(380,330,480,430), \"Briarwood\":(150,350,250,450), \n",
    "             \"Cedar\":(220,170,320,270), \"Chestnut\":(300,400,400,500), \n",
    "             \"Cypress\":(220,280,320,380)}\n",
    "\n",
    "lc_coords = {\"Elm\":(360,670,460,770),\"Evergreen\":(250,640,350,740),\n",
    "             \"Redwood\":(410,800,510,900),\"Spruce\":(260,580,360,680),\n",
    "             \"Tulip\":(320,760,420,860)}\n",
    "\n",
    "bh_coords = {\"Granite\":(520,190,620,290), \"Slate\":(440,260,540,360), \n",
    "             \"Stonewall\":(110,150,210,250)}\n",
    "\n",
    "tr_coords = {\"Vista\":(330,290,430,390),\"Wawanda\":(1180,450,1280,550)}\n",
    "#***************************************************************************************END\n",
    "\n",
    "\n",
    "#READ EXCEL APPLY RISK ***********************************************************\n",
    "with open(risk_data, 'r') as csvfile:\n",
    "    line_reader = csv.reader(csvfile, delimiter=',', quotechar=\"\\\"\")\n",
    "    for row in line_reader:\n",
    "        line_num = line_num + 1\n",
    "        #print (','.join(row)) #prints entire .csv \n",
    "        if line_num == 1:\n",
    "            #print(\"\\n Skipping the header row  \\n\")\n",
    "            continue\n",
    "            \n",
    "#these variables MUST include type or else they cannot be actioned         \n",
    "        houses = str(row[0])\n",
    "        activeA = int(row [3])\n",
    "        activeBSS = int(row[9])\n",
    "\n",
    "#risk variables currently set -- high >= 1 @ active person A and >=2 activeBSS -- med == 1 activeBSS\n",
    "        if activeBSS >= 2:\n",
    "            risk_high.append(str(houses))\n",
    "        elif activeA >= 1:\n",
    "            risk_high.append(str(houses))           \n",
    "        elif activeBSS == 1:\n",
    "            risk_med.append(str(houses))\n",
    "        elif activeBSS == 0:\n",
    "            risk_low.append(str(houses))\n",
    "#******************************************************************************END \n",
    "for i in images:\n",
    "    print(\"The picture is {}\".format(i[0:len(i)-4]))\n",
    "    index = images.index(i)\n",
    "    loc_image = Image.open(images[index]).convert(\"RGBA\")\n",
    "    if i == \"southcamp.jpg\":\n",
    "        coords = sc_coords\n",
    "    elif i == \"northcamp.png\":\n",
    "        coords = nc_coords\n",
    "    elif i == \"ridge.png\":\n",
    "        coords = ri_coords\n",
    "    elif i == \"lifecenter.png\":\n",
    "        coords = lc_coords\n",
    "    elif i == \"bbhville.png\":\n",
    "        coords = bh_coords\n",
    "    elif i == \"therest.png\":\n",
    "        coords = tr_coords\n",
    "\n",
    "    overlay = Image.new(\"RGBA\", loc_image.size)\n",
    "    overlay_drawing = ImageDraw.Draw(overlay)\n",
    "#     loc_risk = Image.alpha_composite(loc_image, overlay)\n",
    "\n",
    "    for key, value in coords.items():\n",
    "        if key in risk_high:\n",
    "            overlay_drawing.ellipse(coords[key], fill=colorRed)\n",
    "            loc_risk = Image.alpha_composite(loc_image, overlay)\n",
    "        elif key in risk_med: \n",
    "            overlay_drawing.ellipse(coords[key], fill=colorYel)\n",
    "            loc_risk = Image.alpha_composite(loc_image, overlay)\n",
    "        elif key in risk_low: \n",
    "            overlay_drawing.ellipse(coords[key], fill=colorGrn)\n",
    "            loc_risk = Image.alpha_composite(loc_image, overlay)\n",
    "            \n",
    "    loc_risk.save('{}_risk.png'.format(i[0:len(i)-4]))"
   ]
  },
  {
   "cell_type": "code",
   "execution_count": null,
   "metadata": {},
   "outputs": [],
   "source": []
  },
  {
   "cell_type": "code",
   "execution_count": null,
   "metadata": {},
   "outputs": [],
   "source": []
  }
 ],
 "metadata": {
  "kernelspec": {
   "display_name": "Python 3",
   "language": "python",
   "name": "python3"
  },
  "language_info": {
   "codemirror_mode": {
    "name": "ipython",
    "version": 3
   },
   "file_extension": ".py",
   "mimetype": "text/x-python",
   "name": "python",
   "nbconvert_exporter": "python",
   "pygments_lexer": "ipython3",
   "version": "3.7.6"
  }
 },
 "nbformat": 4,
 "nbformat_minor": 4
}
